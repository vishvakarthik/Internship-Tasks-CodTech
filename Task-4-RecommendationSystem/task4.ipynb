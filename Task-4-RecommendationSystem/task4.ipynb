# === Recommendation System using Collaborative Filtering ===

# 1) Notebook magic
%matplotlib inline

# 2) Libraries
import pandas as pd
from sklearn.metrics.pairwise import cosine_similarity
from sklearn.preprocessing import StandardScaler

# 3) Example user-item matrix (Movie Ratings)
data = {
    'User': ['Alice', 'Bob', 'Charlie', 'David', 'Emma'],
    'Movie1': [5, 4, 1, 0, 0],
    'Movie2': [4, 0, 1, 0, 0],
    'Movie3': [1, 1, 0, 5, 4],
    'Movie4': [0, 1, 5, 4, 0],
    'Movie5': [0, 0, 5, 4, 0]
}

df = pd.DataFrame(data)
df.set_index('User', inplace=True)
print("=== User-Item Matrix ===")
print(df)

# 4) Compute user-user similarity
similarity_matrix = cosine_similarity(df.fillna(0))
similarity_df = pd.DataFrame(similarity_matrix, index=df.index, columns=df.index)
print("\n=== User Similarity Matrix ===")
print(similarity_df)

# 5) Function to recommend movies for a user
def recommend(user):
    print(f"\n📌 Recommendations for {user}:")
    # Find similar users
    similar_users = similarity_df[user].sort_values(ascending=False)
    print(f"Most similar users:\n{similar_users}\n")

    # Weighted sum of ratings from similar users
    user_idx = df.index.get_loc(user)
    weighted_sum = similarity_matrix.dot(df.fillna(0))
    user_ratings = weighted_sum[user_idx] / similarity_matrix.sum(axis=1)

    recommendations = pd.Series(user_ratings, index=df.columns)
    recommendations = recommendations.sort_values(ascending=False)
    print(f"Recommended items for {user}:\n{recommendations}")

# 6) Get recommendations for Charlie
recommend('Charlie')
